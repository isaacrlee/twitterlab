{
 "cells": [
  {
   "cell_type": "code",
   "execution_count": 123,
   "metadata": {
    "collapsed": true
   },
   "outputs": [],
   "source": [
    "import json\n",
    "import pprint\n",
    "import re\n",
    "import requests\n",
    "\n",
    "from bs4 import BeautifulSoup\n",
    "\n",
    "pp = pprint.PrettyPrinter(indent=4)\n",
    "\n",
    "data = json.load(open('gg2018.json'))\n",
    "\n",
    "# helper functions\n",
    "def find_matching_tweets_from_data(regex, source):\n",
    "    # source is a list tweet objects, regex is the pattern to match\n",
    "    returnList = []\n",
    "    r = re.compile(regex)\n",
    "    for tweet in source:\n",
    "        # print(tweet)\n",
    "        text = tweet.get('text')\n",
    "        # print(text)\n",
    "        if(bool(r.match(text))):\n",
    "            returnList.append(text)\n",
    "    return returnList\n",
    "\n",
    "\n",
    "def find_matching_tweet_parts(regex, source):\n",
    "    # source is a list of strings, regex is the pattern to match\n",
    "    returnList = []\n",
    "    r = re.compile(regex)\n",
    "    for tweet in source:\n",
    "        # print(tweet)\n",
    "        returnList += (re.findall(r, tweet))\n",
    "    return returnList\n",
    "\n",
    "def find_matching_tweets(regex, source):\n",
    "    # source is a list of strings, regex is the pattern to match\n",
    "    returnList = []\n",
    "    r = re.compile(regex)\n",
    "    for tweet in source:\n",
    "        # print(tweet)\n",
    "        if(bool(r.match(tweet))):\n",
    "            returnList.append(tweet)\n",
    "    return returnList\n",
    "\n",
    "def mostCommonD(source):\n",
    "    # returns dictionary with number of occurences for each string in source (useful for lists of hashtags/handles)\n",
    "    d = {}\n",
    "    for tweet in source:\n",
    "        if tweet in d:\n",
    "            d[tweet] += 1\n",
    "        else:\n",
    "            d[tweet] = 1\n",
    "    return d\n",
    "\n",
    "def listMostCommon(d):\n",
    "    # reformats dictionary from mostCommonD into an ordered list\n",
    "    sorted_list = []\n",
    "    d_invert = dict(map(lambda item: (item[1],item[0]),d.items()))\n",
    "    sorted_by_vals = sorted(d_invert)\n",
    "    for val in reversed(sorted_by_vals):\n",
    "        sorted_list.append([val, d_invert[val]])\n",
    "    return sorted_list"
   ]
  },
  {
   "cell_type": "code",
   "execution_count": 15,
   "metadata": {},
   "outputs": [
    {
     "name": "stdout",
     "output_type": "stream",
     "text": [
      "[[6, '@sethmeyers'], [2, '@alohamomma60']]\n"
     ]
    }
   ],
   "source": [
    "# Two ways to get the host, 1st gets Seth Myers' Twitter handle\n",
    "\n",
    "hostList = find_matching_tweets_from_data(\".(?i)*host.*\", data)\n",
    "# print(len(hostList))\n",
    "# hostList is every tweet object that has \"host\" in it\n",
    "\n",
    "jobAsHost = find_matching_tweets(\".*(?i)job.*\", hostList)\n",
    "# print(len(jobAsHost))\n",
    "# jobAsHost is every tweet object that has \"host\" and \"job\" in it\n",
    "\n",
    "startsWithHandle = find_matching_tweets(\"@.*\", jobAsHost)\n",
    "# print(len(startsWithHandle))\n",
    "\n",
    "# startsWithHandle is every tweet object that has \"host\" and \"job\" in it that starts with a twitter handle\n",
    "\n",
    "justHandle = [text.split(' ', 1)[0] for text in startsWithHandle]\n",
    "# print(justHandle)\n",
    "d = mostCommonD(justHandle) # dictionary with number of occurences for each handle\n",
    "l = listMostCommon(d)\n",
    "print(l)"
   ]
  },
  {
   "cell_type": "code",
   "execution_count": 16,
   "metadata": {},
   "outputs": [
    {
     "name": "stdout",
     "output_type": "stream",
     "text": [
      "20\n",
      "8\n",
      "Seth Meyers\n"
     ]
    }
   ],
   "source": [
    "# 2nd gets Seth Myers' name\n",
    "\n",
    "hostingList = find_matching_tweets_from_data(\".*hosting.*\", data)\n",
    "sethList = find_matching_tweets(\".*job.*\", hostingList)\n",
    "print(len(sethList))\n",
    "\n",
    "def mostCommonTwoStartingWords(source):\n",
    "    maxMentions=0\n",
    "    mentions=0\n",
    "    maxMentionName=\"\"\n",
    "    for tweet in source:\n",
    "        name=tweet.split(' ', 1)[0]+' '+tweet.split(' ')[1]\n",
    "        for tweet in source:\n",
    "            egExpres=\".*\"+name+\".*\"\n",
    "            r=re.compile(egExpres)\n",
    "            if(bool(r.match(tweet))):\n",
    "                mentions+=1\n",
    "        if(mentions>maxMentions):\n",
    "            maxMentions=mentions\n",
    "            maxMentionName=name\n",
    "        mentions=0\n",
    "    print(maxMentions)\n",
    "    print(maxMentionName)\n",
    "\n",
    "mostCommonTwoStartingWords(sethList)\n",
    "\n",
    "# checking the most common two starting words (figure this will be a name)"
   ]
  },
  {
   "cell_type": "code",
   "execution_count": 103,
   "metadata": {},
   "outputs": [
    {
     "name": "stdout",
     "output_type": "stream",
     "text": [
      "[   'Best Motion Picture – Drama',\n",
      "    'Best Motion Picture – Musical or Comedy',\n",
      "    'Best Director',\n",
      "    'Best Actor – Motion Picture Drama',\n",
      "    'Best Actor – Motion Picture Musical or Comedy',\n",
      "    'Best Actress – Motion Picture Drama',\n",
      "    'Best Actress – Motion Picture Musical or Comedy',\n",
      "    'Best Supporting Actor – Motion Picture',\n",
      "    'Best Supporting Actress – Motion Picture',\n",
      "    'Best Screenplay',\n",
      "    'Best Original Score',\n",
      "    'Best Original Song',\n",
      "    'Best Foreign Language Film',\n",
      "    'Best Animated Feature Film',\n",
      "    'Cecil B. DeMille Award for Lifetime Achievement in Motion Pictures']\n",
      "[   'Best Drama Series',\n",
      "    'Best Comedy Series',\n",
      "    'Best Actor in a Television Drama Series',\n",
      "    'Best Actor in a Television Comedy Series',\n",
      "    'Best Actress in a Television Drama Series',\n",
      "    'Best Actress in a Television Comedy Series',\n",
      "    'Best Limited Series or Motion Picture made for Television',\n",
      "    'Best Actor in a Limited Series or Motion Picture made for Television',\n",
      "    'Best Actress in a Limited Series or Motion Picture made for Television',\n",
      "    'Best Supporting Actor in a Series, Limited Series or Motion Picture made '\n",
      "    'for Television',\n",
      "    'Best Supporting Actress in a Series, Limited Series or Motion Picture '\n",
      "    'made for Television']\n"
     ]
    },
    {
     "name": "stderr",
     "output_type": "stream",
     "text": [
      "/Users/isaaclee/anaconda3/lib/python3.6/site-packages/bs4/__init__.py:181: UserWarning: No parser was explicitly specified, so I'm using the best available HTML parser for this system (\"lxml\"). This usually isn't a problem, but if you run this code on another system, or in a different virtual environment, it may use a different parser and behave differently.\n",
      "\n",
      "The code that caused this warning is on line 193 of the file /Users/isaaclee/anaconda3/lib/python3.6/runpy.py. To get rid of this warning, change code that looks like this:\n",
      "\n",
      " BeautifulSoup(YOUR_MARKUP})\n",
      "\n",
      "to this:\n",
      "\n",
      " BeautifulSoup(YOUR_MARKUP, \"lxml\")\n",
      "\n",
      "  markup_type=markup_type))\n"
     ]
    }
   ],
   "source": [
    "# Web Scraping\n",
    "\n",
    "# Scraping Categories\n",
    "\n",
    "res = requests.get(\"https://en.wikipedia.org/wiki/Golden_Globe_Award\")\n",
    "# print(res.status_code)\n",
    "# print(res.headers)\n",
    "content = res.content\n",
    "soup = BeautifulSoup(content)\n",
    "element = soup.find(id=\"Categories\")\n",
    "# navigate\n",
    "element = element.parent.next_sibling.next_sibling.next_sibling.next_sibling\n",
    "# element is <ul> of motion picture awards\n",
    "motion_picture_awards = [s for s in element.stripped_strings]\n",
    "pp.pprint(motion_picture_awards)\n",
    "element = element.next_sibling.next_sibling.next_sibling.next_sibling.next_sibling.next_sibling\n",
    "# element is <ul> of tv awards\n",
    "tv_awards = [s for s in element.stripped_strings]\n",
    "pp.pprint(tv_awards)"
   ]
  },
  {
   "cell_type": "code",
   "execution_count": null,
   "metadata": {
    "collapsed": true
   },
   "outputs": [],
   "source": []
  },
  {
   "cell_type": "code",
   "execution_count": 124,
   "metadata": {},
   "outputs": [
    {
     "name": "stdout",
     "output_type": "stream",
     "text": [
      "[   [4982, '#GoldenGlobes'],\n",
      "    [657, '#TheShapeofWater'],\n",
      "    [576, '#OscarSoWhite'],\n",
      "    [325, '#GoldenGlobe'],\n",
      "    [278, '#NataliePortman'],\n",
      "    [169, '#TheShapeOfWater'],\n",
      "    [121, '#TIMESUP'],\n",
      "    [103, '#goldenglobes'],\n",
      "    [67, '#TIME'],\n",
      "    [66, '#GoldenGl'],\n",
      "    [63, '#TimesUp'],\n",
      "    [50, '#TIMES'],\n",
      "    [42, '#GoldenGlobes2018'],\n",
      "    [38, '#Golde'],\n",
      "    [30, '#G'],\n",
      "    [23, '#GoldenGlo'],\n",
      "    [22, '#Representati'],\n",
      "    [20, '#Gol'],\n",
      "    [18, '#timesup'],\n",
      "    [16, '#go'],\n",
      "    [14, '#Times'],\n",
      "    [13, '#TI'],\n",
      "    [11, '#TimesUP'],\n",
      "    [9, '#Gold'],\n",
      "    [7, '#GretaGerwig'],\n",
      "    [5, '#Globes75'],\n",
      "    [4, '#natalieportman'],\n",
      "    [3, '#tech'],\n",
      "    [2, '#USRC'],\n",
      "    [1, '#love']]\n"
     ]
    }
   ],
   "source": [
    "# Hashtag Searching\n",
    "\n",
    "award_tweets = find_matching_tweets_from_data(\"(?i).*best director.*\", data)\n",
    "hashtags_in_award_tweets = find_matching_tweet_parts(\"(?i)#\\w+\", award_tweets)\n",
    "d = mostCommonD(hashtags_in_award_tweets)\n",
    "pp.pprint(listMostCommon(d))\n",
    "\n",
    "# hashtags works okay for movies, not as well for actors/actresses\n",
    "# handles don't work well for actors/actresses because the handle of the person with the most popular opinion is the one ranked the highest"
   ]
  }
 ],
 "metadata": {
  "kernelspec": {
   "display_name": "Python 3",
   "language": "python",
   "name": "python3"
  },
  "language_info": {
   "codemirror_mode": {
    "name": "ipython",
    "version": 3
   },
   "file_extension": ".py",
   "mimetype": "text/x-python",
   "name": "python",
   "nbconvert_exporter": "python",
   "pygments_lexer": "ipython3",
   "version": "3.6.3"
  }
 },
 "nbformat": 4,
 "nbformat_minor": 2
}
