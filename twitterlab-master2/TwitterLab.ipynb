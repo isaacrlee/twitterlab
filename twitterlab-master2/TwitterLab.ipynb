{
 "cells": [
  {
   "cell_type": "markdown",
   "metadata": {},
   "source": [
    "Twitter Lab: Figuring Out Host, Catagories and Winners of the 2018 Golden Globes"
   ]
  },
  {
   "cell_type": "markdown",
   "metadata": {},
   "source": [
    "First Part is figuring out is starting out simple and figuring out who hosted the award"
   ]
  },
  {
   "cell_type": "code",
   "execution_count": 1,
   "metadata": {
    "collapsed": true
   },
   "outputs": [],
   "source": [
    "import json\n",
    "import re\n",
    "\n",
    "data = json.load(open('gg2018.json'))"
   ]
  },
  {
   "cell_type": "code",
   "execution_count": 2,
   "metadata": {},
   "outputs": [
    {
     "name": "stdout",
     "output_type": "stream",
     "text": [
      "We have a fuck ton of tweets.\n",
      "775721\n"
     ]
    }
   ],
   "source": [
    "print(\"We have a fuck ton of tweets.\")\n",
    "print(len(data))"
   ]
  },
  {
   "cell_type": "code",
   "execution_count": 3,
   "metadata": {},
   "outputs": [
    {
     "name": "stdout",
     "output_type": "stream",
     "text": [
      "5448\n"
     ]
    }
   ],
   "source": [
    "r=re.compile(\".(?i)*host.*\")\n",
    "hostList = []\n",
    "for tweet in data:\n",
    "    if(bool(r.match(tweet.get('text')))):\n",
    "        hostList.append(tweet)\n",
    "print(len(hostList))"
   ]
  },
  {
   "cell_type": "code",
   "execution_count": 4,
   "metadata": {},
   "outputs": [
    {
     "name": "stdout",
     "output_type": "stream",
     "text": [
      "32\n"
     ]
    }
   ],
   "source": [
    "r=re.compile(\".*(?i)job.*\")\n",
    "jobAsHost = []\n",
    "for tweet in hostList:\n",
    "    if(bool(r.match(tweet.get('text')))):\n",
    "        jobAsHost.append(tweet)\n",
    "print(len(jobAsHost))"
   ]
  },
  {
   "cell_type": "code",
   "execution_count": 5,
   "metadata": {},
   "outputs": [
    {
     "name": "stdout",
     "output_type": "stream",
     "text": [
      "10\n"
     ]
    }
   ],
   "source": [
    "r=re.compile(\"@.*\")\n",
    "startwithHandle = []\n",
    "for tweet in jobAsHost:\n",
    "    if(bool(r.match(tweet.get('text')))):\n",
    "        startwithHandle.append(tweet)\n",
    "print(len(startwithHandle))"
   ]
  },
  {
   "cell_type": "code",
   "execution_count": null,
   "metadata": {
    "collapsed": true
   },
   "outputs": [],
   "source": []
  },
  {
   "cell_type": "code",
   "execution_count": 6,
   "metadata": {},
   "outputs": [
    {
     "name": "stdout",
     "output_type": "stream",
     "text": [
      "@sethmeyers\n"
     ]
    }
   ],
   "source": [
    "maxMentions=0\n",
    "mentions=0\n",
    "maxMentionName=\"\"\n",
    "for tweet in startwithHandle:\n",
    "    text=tweet.get('text')\n",
    "    name=text.split(' ', 1)[0]\n",
    "    for tweet in startwithHandle:\n",
    "        egExpres=\".*\"+name+\".*\"\n",
    "        r=re.compile(egExpres)\n",
    "        if(bool(r.match(tweet.get('text')))):\n",
    "            mentions+=1\n",
    "    if(mentions>maxMentions):\n",
    "        maxMentions=mentions\n",
    "        maxMentionName=name\n",
    "    mentions=0\n",
    "print(maxMentionName)"
   ]
  },
  {
   "cell_type": "code",
   "execution_count": null,
   "metadata": {
    "collapsed": true
   },
   "outputs": [],
   "source": []
  },
  {
   "cell_type": "code",
   "execution_count": null,
   "metadata": {
    "collapsed": true
   },
   "outputs": [],
   "source": []
  },
  {
   "cell_type": "code",
   "execution_count": null,
   "metadata": {
    "collapsed": true
   },
   "outputs": [],
   "source": []
  },
  {
   "cell_type": "code",
   "execution_count": null,
   "metadata": {
    "collapsed": true
   },
   "outputs": [],
   "source": []
  },
  {
   "cell_type": "code",
   "execution_count": 7,
   "metadata": {},
   "outputs": [
    {
     "name": "stdout",
     "output_type": "stream",
     "text": [
      "20\n"
     ]
    }
   ],
   "source": [
    "r=re.compile(\".*hosting.*\")\n",
    "hostingList = []\n",
    "for tweet in data:\n",
    "    if(bool(r.match(tweet.get('text')))):\n",
    "        hostingList.append(tweet)\n",
    "\n",
    "r=re.compile(\".*job.*\")\n",
    "sethList = []\n",
    "for tweet in hostingList:\n",
    "    if(bool(r.match(tweet.get('text')))):\n",
    "        sethList.append(tweet)\n",
    "print(len(sethList))\n"
   ]
  },
  {
   "cell_type": "code",
   "execution_count": 8,
   "metadata": {},
   "outputs": [
    {
     "name": "stdout",
     "output_type": "stream",
     "text": [
      "8\n",
      "Seth Meyers\n"
     ]
    }
   ],
   "source": [
    "maxMentions=0\n",
    "mentions=0\n",
    "maxMentionName=\"\"\n",
    "for tweet in sethList:\n",
    "    text=tweet.get('text')\n",
    "    name=text.split(' ', 1)[0]+' '+text.split(' ')[1]\n",
    "    for tweet in sethList:\n",
    "        egExpres=\".*\"+name+\".*\"\n",
    "        r=re.compile(egExpres)\n",
    "        if(bool(r.match(tweet.get('text')))):\n",
    "            mentions+=1\n",
    "    if(mentions>maxMentions):\n",
    "        maxMentions=mentions\n",
    "        maxMentionName=name\n",
    "    mentions=0\n",
    "print(maxMentions)\n",
    "print(maxMentionName)"
   ]
  },
  {
   "cell_type": "markdown",
   "metadata": {},
   "source": [
    "Now we will attempt to get the nomination categories"
   ]
  },
  {
   "cell_type": "code",
   "execution_count": 9,
   "metadata": {},
   "outputs": [
    {
     "name": "stdout",
     "output_type": "stream",
     "text": [
      "2709\n"
     ]
    }
   ],
   "source": [
    "r=re.compile(\".*(?i)nominated for.*\")\n",
    "nominatingList = []\n",
    "for tweet in data:\n",
    "    if(bool(r.match(tweet.get('text')))):\n",
    "        nominatingList.append(tweet)\n",
    "print(len(nominatingList))"
   ]
  },
  {
   "cell_type": "code",
   "execution_count": 10,
   "metadata": {},
   "outputs": [
    {
     "name": "stdout",
     "output_type": "stream",
     "text": [
      "0\n"
     ]
    }
   ],
   "source": [
    "threshold=.001\n",
    "mentions=0\n",
    "total=len(nominatingList)\n",
    "categoryList=[]\n",
    "for tweet in nominatingList:\n",
    "    r=re.compile(\"(?i)nominated for.*\")\n",
    "    text=tweet.get('text')\n",
    "    text=r.findall(text)\n",
    "    name=text[0]\n",
    "    for tweet in nominatingList:\n",
    "        egExpres=\".*\"+name+\".*\"\n",
    "        try:\n",
    "            r=re.compile(egExpres)\n",
    "        except:\n",
    "            #print(\"bad tweet\")\n",
    "            break\n",
    "        if(bool(r.match(tweet.get('text')))):\n",
    "            mentions+=1\n",
    "    if((mentions/total)>=threshold):\n",
    "        categoryList.append(name)\n",
    "    mentions=0\n",
    "print(len(categoryList))"
   ]
  },
  {
   "cell_type": "code",
   "execution_count": 11,
   "metadata": {},
   "outputs": [
    {
     "name": "stdout",
     "output_type": "stream",
     "text": [
      "858\n"
     ]
    }
   ],
   "source": [
    "r=re.compile(\".*(?i)nominated for best.*\")\n",
    "categoryList = []\n",
    "for tweet in data:\n",
    "    if(bool(r.match(tweet.get('text')))):\n",
    "        categoryList.append(tweet)\n",
    "print(len(categoryList))"
   ]
  },
  {
   "cell_type": "code",
   "execution_count": 12,
   "metadata": {},
   "outputs": [
    {
     "name": "stdout",
     "output_type": "stream",
     "text": [
      "277\n"
     ]
    }
   ],
   "source": [
    "r=re.compile(\".*best.*\")\n",
    "combineList = []\n",
    "for tweet in categoryList:\n",
    "    if(bool(r.match(tweet.get('text')))):\n",
    "        combineList.append(tweet)\n",
    "print(len(combineList))"
   ]
  },
  {
   "cell_type": "code",
   "execution_count": 13,
   "metadata": {},
   "outputs": [
    {
     "data": {
      "text/plain": [
       "{u'id_str': u'950151042729037826',\n",
       " u'text': u\"@goldenglobes who's even nominated for best movie? I have no idea.\"}"
      ]
     },
     "execution_count": 13,
     "metadata": {},
     "output_type": "execute_result"
    }
   ],
   "source": [
    "combineList[4]"
   ]
  },
  {
   "cell_type": "code",
   "execution_count": 14,
   "metadata": {
    "collapsed": true
   },
   "outputs": [],
   "source": [
    "bestBlankList=[]\n",
    "for tweet in combineList:\n",
    "    r=re.compile(\"(?i)best.*\")\n",
    "    text=tweet.get('text')\n",
    "    text=r.findall(text)\n",
    "    r=re.compile(\".*\\W\")\n",
    "    text=r.findall(text[0])\n",
    "    bestBlankList.append(text[0])"
   ]
  },
  {
   "cell_type": "code",
   "execution_count": 15,
   "metadata": {},
   "outputs": [
    {
     "name": "stdout",
     "output_type": "stream",
     "text": [
      "best Comedy Musical...???? What? #\n"
     ]
    }
   ],
   "source": [
    "print(bestBlankList[1])"
   ]
  },
  {
   "cell_type": "code",
   "execution_count": 16,
   "metadata": {},
   "outputs": [
    {
     "name": "stdout",
     "output_type": "stream",
     "text": [
      "[' ', ' ', '.', '.', '.', '?', '?', '?', '?', ' ', '?', ' ', '#']\n"
     ]
    }
   ],
   "source": [
    "r=re.compile(\"\\W\")\n",
    "print(r.findall(\"best Comedy Musical...???? WHAT? #\"))"
   ]
  },
  {
   "cell_type": "code",
   "execution_count": null,
   "metadata": {
    "collapsed": true
   },
   "outputs": [],
   "source": []
  }
 ],
 "metadata": {
  "kernelspec": {
   "display_name": "Python 2",
   "language": "python",
   "name": "python2"
  },
  "language_info": {
   "codemirror_mode": {
    "name": "ipython",
    "version": 2
   },
   "file_extension": ".py",
   "mimetype": "text/x-python",
   "name": "python",
   "nbconvert_exporter": "python",
   "pygments_lexer": "ipython2",
   "version": "2.7.14"
  }
 },
 "nbformat": 4,
 "nbformat_minor": 2
}
